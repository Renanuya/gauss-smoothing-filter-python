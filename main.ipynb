{
 "cells": [
  {
   "cell_type": "code",
   "execution_count": null,
   "id": "15ebed2f",
   "metadata": {},
   "outputs": [],
   "source": [
    "import numpy as np\n",
    "import pandas as pd"
   ]
  },
  {
   "cell_type": "code",
   "execution_count": null,
   "id": "45b19d55",
   "metadata": {},
   "outputs": [],
   "source": [
    "file_path = 'data/example_data.xlsx'\n",
    "data = pd.read_excel(file_path, header=None)"
   ]
  },
  {
   "cell_type": "code",
   "execution_count": null,
   "id": "8620196f",
   "metadata": {},
   "outputs": [],
   "source": [
    "data_as_numpy = data.to_numpy()"
   ]
  },
  {
   "cell_type": "code",
   "execution_count": null,
   "id": "434425fc",
   "metadata": {},
   "outputs": [],
   "source": [
    "gaussian_filter = np.array([[1, 2, 1],\n",
    "                            [2, 4, 2],\n",
    "                            [1, 2, 1]]) / 16"
   ]
  },
  {
   "cell_type": "code",
   "execution_count": null,
   "id": "0891ae6f",
   "metadata": {},
   "outputs": [],
   "source": [
    "filtered_data = np.zeros((data_as_numpy.shape[0] - 2, data_as_numpy.shape[1] - 2))"
   ]
  },
  {
   "cell_type": "code",
   "execution_count": null,
   "id": "b843491d",
   "metadata": {},
   "outputs": [],
   "source": [
    "filter_size = gaussian_filter.shape[0]\n",
    "offset = filter_size // 2"
   ]
  },
  {
   "cell_type": "code",
   "execution_count": null,
   "id": "e436748c",
   "metadata": {},
   "outputs": [],
   "source": [
    "for i in range(offset, data_as_numpy.shape[0] - offset):\n",
    "    for j in range(offset, data_as_numpy.shape[1] - offset):\n",
    "        region = data_as_numpy[i - offset:i + offset + 1, j - offset:j + offset + 1]\n",
    "        filtered_value = np.sum(region * gaussian_filter)\n",
    "        filtered_data[i - offset, j - offset] = filtered_value"
   ]
  },
  {
   "cell_type": "code",
   "execution_count": null,
   "id": "faa37909",
   "metadata": {},
   "outputs": [],
   "source": [
    "print(\"Smoothed data matrix:\")\n",
    "print(filtered_data)"
   ]
  },
  {
   "cell_type": "code",
   "execution_count": null,
   "id": "26127c1c",
   "metadata": {},
   "outputs": [],
   "source": [
    "smoothed_data_df = pd.DataFrame(filtered_data)"
   ]
  },
  {
   "cell_type": "code",
   "execution_count": null,
   "id": "156d7d1d",
   "metadata": {},
   "outputs": [],
   "source": [
    "output_file_path = 'data/smoothed_image.xlsx'\n",
    "smoothed_data_df.to_excel(output_file_path, header=False, index=False)"
   ]
  },
  {
   "cell_type": "code",
   "execution_count": null,
   "id": "4316a13a",
   "metadata": {},
   "outputs": [],
   "source": [
    "print(\"------------------------------------\")\n",
    "print(\"Original data size:\", data_as_numpy.shape)\n",
    "print(\"Smoothed data size:\", filtered_data.shape)\n",
    "print(\"The smoothed data was saved successfully:\", output_file_path)"
   ]
  }
 ],
 "metadata": {
  "jupytext": {
   "cell_metadata_filter": "-all",
   "main_language": "python",
   "notebook_metadata_filter": "-all"
  }
 },
 "nbformat": 4,
 "nbformat_minor": 5
}
